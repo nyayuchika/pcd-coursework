{
  "nbformat": 4,
  "nbformat_minor": 0,
  "metadata": {
    "colab": {
      "provenance": [],
      "collapsed_sections": [
        "YABSfdVI2Ptw",
        "Ro9RW5Te-SmW",
        "H0nJJtPD-XdD",
        "7yOggvrc-Yag",
        "NAaG0nL9-8k4",
        "p_mGvEOR-_Yr",
        "HBWgiRxjQJej"
      ],
      "authorship_tag": "ABX9TyO8nDXGp/XffAaKywqXstdo",
      "include_colab_link": true
    },
    "kernelspec": {
      "name": "python3",
      "display_name": "Python 3"
    },
    "language_info": {
      "name": "python"
    }
  },
  "cells": [
    {
      "cell_type": "markdown",
      "metadata": {
        "id": "view-in-github",
        "colab_type": "text"
      },
      "source": [
        "<a href=\"https://colab.research.google.com/github/nyayuchika/pcd-coursework/blob/master/PCD_Assignment01.ipynb\" target=\"_parent\"><img src=\"https://colab.research.google.com/assets/colab-badge.svg\" alt=\"Open In Colab\"/></a>"
      ]
    },
    {
      "cell_type": "markdown",
      "source": [
        "#Upsampling"
      ],
      "metadata": {
        "id": "YABSfdVI2Ptw"
      }
    },
    {
      "cell_type": "code",
      "execution_count": 1,
      "metadata": {
        "id": "Dwl1Ov5WFQbt",
        "colab": {
          "base_uri": "https://localhost:8080/"
        },
        "outputId": "75eed11c-f9ed-4f98-a597-28634c56a18c"
      },
      "outputs": [
        {
          "output_type": "stream",
          "name": "stdout",
          "text": [
            "Masukkan banyak baris = 3\n",
            "Masukkan banyak kolom = 3\n",
            "Banyak baris 3\n",
            "Banyak kolom 3\n",
            "[[7 0 4]\n",
            " [4 3 1]\n",
            " [4 9 9]]\n"
          ]
        }
      ],
      "source": [
        "#Generate Matrix\n",
        "import numpy as np\n",
        "m = 0\n",
        "n = 0\n",
        "m = input(\"Masukkan banyak baris = \")\n",
        "n = input(\"Masukkan banyak kolom = \")\n",
        "print(f\"Banyak baris {m}\")\n",
        "print(f\"Banyak kolom {n}\")\n",
        "m = int(m)\n",
        "n = int(n)\n",
        "a = np.random.randint(10, size=(m,n))\n",
        "print(a)"
      ]
    },
    {
      "cell_type": "markdown",
      "source": [
        "##Nearest Neighbor"
      ],
      "metadata": {
        "id": "Ro9RW5Te-SmW"
      }
    },
    {
      "cell_type": "code",
      "source": [
        "print(a)"
      ],
      "metadata": {
        "colab": {
          "base_uri": "https://localhost:8080/"
        },
        "id": "YFQZovKD2THH",
        "outputId": "69524e37-71c1-4347-9ddc-b7aa6ff05c4a"
      },
      "execution_count": 2,
      "outputs": [
        {
          "output_type": "stream",
          "name": "stdout",
          "text": [
            "[[7 0 4]\n",
            " [4 3 1]\n",
            " [4 9 9]]\n"
          ]
        }
      ]
    },
    {
      "cell_type": "code",
      "source": [
        "k = 2\n",
        "\n"
      ],
      "metadata": {
        "id": "0DUFZ1Jz_PuQ"
      },
      "execution_count": 3,
      "outputs": []
    },
    {
      "cell_type": "code",
      "source": [],
      "metadata": {
        "id": "wM5vWuhMAtkH"
      },
      "execution_count": 3,
      "outputs": []
    },
    {
      "cell_type": "markdown",
      "source": [
        "##Bilinear"
      ],
      "metadata": {
        "id": "H0nJJtPD-XdD"
      }
    },
    {
      "cell_type": "code",
      "source": [],
      "metadata": {
        "id": "lD3_ZAHK-YIg"
      },
      "execution_count": 3,
      "outputs": []
    },
    {
      "cell_type": "markdown",
      "source": [
        "##Bicubic"
      ],
      "metadata": {
        "id": "7yOggvrc-Yag"
      }
    },
    {
      "cell_type": "code",
      "source": [],
      "metadata": {
        "id": "yEwdTrLA-7q9"
      },
      "execution_count": 3,
      "outputs": []
    },
    {
      "cell_type": "markdown",
      "source": [
        "#Downsampling"
      ],
      "metadata": {
        "id": "DFvEeQYQ2VA6"
      }
    },
    {
      "cell_type": "code",
      "source": [
        "#Generate Matrix\n",
        "import numpy as np\n",
        "m = 0\n",
        "n = 0\n",
        "m = input(\"Masukkan banyak baris = \")\n",
        "n = input(\"Masukkan banyak kolom = \")\n",
        "print(f\"Banyak baris {m}\")\n",
        "print(f\"Banyak kolom {n}\")\n",
        "m = int(m)\n",
        "n = int(n)\n",
        "b = np.random.randint(10, size=(m,n))\n",
        "print(b)"
      ],
      "metadata": {
        "colab": {
          "base_uri": "https://localhost:8080/"
        },
        "id": "ufEA8zaOC61E",
        "outputId": "a250ed58-aead-4a5d-dc66-bdcc133f0089"
      },
      "execution_count": 4,
      "outputs": [
        {
          "output_type": "stream",
          "name": "stdout",
          "text": [
            "Masukkan banyak baris = 4\n",
            "Masukkan banyak kolom = 4\n",
            "Banyak baris 4\n",
            "Banyak kolom 4\n",
            "[[0 3 0 2]\n",
            " [5 0 6 5]\n",
            " [5 7 9 4]\n",
            " [5 8 9 0]]\n"
          ]
        }
      ]
    },
    {
      "cell_type": "markdown",
      "source": [
        "##Max"
      ],
      "metadata": {
        "id": "NAaG0nL9-8k4"
      }
    },
    {
      "cell_type": "code",
      "source": [
        "print(b)\n",
        "print(b.shape)"
      ],
      "metadata": {
        "colab": {
          "base_uri": "https://localhost:8080/"
        },
        "id": "OTaM1dG0--9Z",
        "outputId": "c3767f06-0f52-442a-fc01-8c77226d82c0"
      },
      "execution_count": 85,
      "outputs": [
        {
          "output_type": "stream",
          "name": "stdout",
          "text": [
            "[[0 3 0 2]\n",
            " [5 0 6 5]\n",
            " [5 7 9 4]\n",
            " [5 8 9 0]]\n",
            "(4, 4)\n"
          ]
        }
      ]
    },
    {
      "cell_type": "code",
      "source": [
        "# k = 2\n",
        "\n",
        "b_m1 = b[0:2,0:2]\n",
        "print(b_m1)\n",
        "max_b1 = np.max(b_m1)\n",
        "print(max_b1)"
      ],
      "metadata": {
        "colab": {
          "base_uri": "https://localhost:8080/"
        },
        "id": "LN2F6y-ECm67",
        "outputId": "23da7a89-9541-43eb-d1dc-ca46eade7b39"
      },
      "execution_count": 86,
      "outputs": [
        {
          "output_type": "stream",
          "name": "stdout",
          "text": [
            "[[0 3]\n",
            " [5 0]]\n",
            "5\n"
          ]
        }
      ]
    },
    {
      "cell_type": "code",
      "source": [
        "b_m2 = b[0:2,2:4]\n",
        "print(b_m2)\n",
        "max_b2 = np.max(b_m2)\n",
        "print(max_b2)"
      ],
      "metadata": {
        "colab": {
          "base_uri": "https://localhost:8080/"
        },
        "id": "3I8fFzFzLLm5",
        "outputId": "f57642b9-8c59-4f1d-e679-8e5bb0fce077"
      },
      "execution_count": 91,
      "outputs": [
        {
          "output_type": "stream",
          "name": "stdout",
          "text": [
            "[[0 2]\n",
            " [6 5]]\n",
            "6\n"
          ]
        }
      ]
    },
    {
      "cell_type": "code",
      "source": [
        "b_m3 = b[2:5,0:2]\n",
        "print(b_m3)\n",
        "max_b3 = np.max(b_m3)\n",
        "print(max_b3)"
      ],
      "metadata": {
        "colab": {
          "base_uri": "https://localhost:8080/"
        },
        "outputId": "fe9d1455-744e-4c19-caff-ee5c629cf894",
        "id": "VGsuqEltPmF4"
      },
      "execution_count": 92,
      "outputs": [
        {
          "output_type": "stream",
          "name": "stdout",
          "text": [
            "[[5 7]\n",
            " [5 8]]\n",
            "8\n"
          ]
        }
      ]
    },
    {
      "cell_type": "code",
      "source": [
        "b_m4 = b[2:5,2:4]\n",
        "print(b_m4)\n",
        "max_b4 = np.max(b_m4)\n",
        "print(max_b4)"
      ],
      "metadata": {
        "colab": {
          "base_uri": "https://localhost:8080/"
        },
        "id": "O75kk5K6N02n",
        "outputId": "cef30244-015b-4668-e4ec-2662ff12bf1a"
      },
      "execution_count": 93,
      "outputs": [
        {
          "output_type": "stream",
          "name": "stdout",
          "text": [
            "[[9 4]\n",
            " [9 0]]\n",
            "9\n"
          ]
        }
      ]
    },
    {
      "cell_type": "code",
      "source": [
        "b_max = np.array([[max_b1,max_b2],[max_b3,max_b4]])\n",
        "print(f\"Matriks Downsampling Max: \\n\",b_max)"
      ],
      "metadata": {
        "colab": {
          "base_uri": "https://localhost:8080/"
        },
        "id": "n-dBFH92PvFI",
        "outputId": "93b8b9ea-9feb-4bc0-834b-391a38bd7b05"
      },
      "execution_count": 94,
      "outputs": [
        {
          "output_type": "stream",
          "name": "stdout",
          "text": [
            "Matriks Downsampling Max: \n",
            " [[5 6]\n",
            " [8 9]]\n"
          ]
        }
      ]
    },
    {
      "cell_type": "markdown",
      "source": [
        "##Median"
      ],
      "metadata": {
        "id": "p_mGvEOR-_Yr"
      }
    },
    {
      "cell_type": "code",
      "source": [
        "import statistics\n",
        "print(b)"
      ],
      "metadata": {
        "colab": {
          "base_uri": "https://localhost:8080/"
        },
        "id": "d_rmWG0x_BoT",
        "outputId": "ce5aea93-dd22-45d0-ea06-8ff84d58f997"
      },
      "execution_count": 71,
      "outputs": [
        {
          "output_type": "stream",
          "name": "stdout",
          "text": [
            "[[0 3 0 2]\n",
            " [5 0 6 5]\n",
            " [5 7 9 4]\n",
            " [5 8 9 0]]\n"
          ]
        }
      ]
    },
    {
      "cell_type": "code",
      "source": [
        "b_med1 = b[0:2,2:4]\n",
        "print(b_med1)\n",
        "b_med1 = b_med1.flatten()\n",
        "b_med1 = np.sort(b_med1)\n",
        "print(b_med1)\n",
        "med_b1 = int(statistics.median(b_med1))\n",
        "print(med_b1)"
      ],
      "metadata": {
        "colab": {
          "base_uri": "https://localhost:8080/"
        },
        "outputId": "d3264207-a283-49bb-c85e-9ed5362ede7d",
        "id": "UcM9EHXtX9ZC"
      },
      "execution_count": 76,
      "outputs": [
        {
          "output_type": "stream",
          "name": "stdout",
          "text": [
            "[[0 2]\n",
            " [6 5]]\n",
            "[0 2 5 6]\n",
            "3\n"
          ]
        }
      ]
    },
    {
      "cell_type": "code",
      "source": [
        "b_med2 = b[0:2,2:5]\n",
        "print(b_med2)\n",
        "b_med2 = b_med2.flatten()\n",
        "b_med2 = np.sort(b_med2)\n",
        "print(b_med2)\n",
        "med_b2 = int(statistics.median(b_med2))\n",
        "print(med_b2)"
      ],
      "metadata": {
        "colab": {
          "base_uri": "https://localhost:8080/"
        },
        "id": "WAoqsnl-bgD7",
        "outputId": "fb6e4300-6359-4728-a067-148a21b0027a"
      },
      "execution_count": 80,
      "outputs": [
        {
          "output_type": "stream",
          "name": "stdout",
          "text": [
            "[[0 2]\n",
            " [6 5]]\n",
            "[0 2 5 6]\n",
            "3\n"
          ]
        }
      ]
    },
    {
      "cell_type": "code",
      "source": [
        "b_med3 = b[2:5,0:2]\n",
        "print(b_med3)\n",
        "b_med3 = b_med3.flatten()\n",
        "b_med3 = np.sort(b_med3)\n",
        "print(b_med3)\n",
        "med_b3 = int(statistics.median(b_med3))\n",
        "print(med_b3)"
      ],
      "metadata": {
        "colab": {
          "base_uri": "https://localhost:8080/"
        },
        "id": "_t_eGfozbIh_",
        "outputId": "46786a56-718c-4e33-8053-91b94ceb4af1"
      },
      "execution_count": 78,
      "outputs": [
        {
          "output_type": "stream",
          "name": "stdout",
          "text": [
            "[[5 7]\n",
            " [5 8]]\n",
            "[5 5 7 8]\n",
            "6\n"
          ]
        }
      ]
    },
    {
      "cell_type": "code",
      "source": [
        "b_med4 = b[2:5,2:5]\n",
        "print(b_med4)\n",
        "b_med4 = b_med4.flatten()\n",
        "b_med4 = np.sort(b_med4)\n",
        "print(b_med4)\n",
        "med_b4 = int(statistics.median(b_med4))\n",
        "print(med_b4)"
      ],
      "metadata": {
        "colab": {
          "base_uri": "https://localhost:8080/"
        },
        "id": "7_VKLgZKbuT4",
        "outputId": "de3cf850-4024-43a8-a457-4ce6f32716d2"
      },
      "execution_count": 81,
      "outputs": [
        {
          "output_type": "stream",
          "name": "stdout",
          "text": [
            "[[9 4]\n",
            " [9 0]]\n",
            "[0 4 9 9]\n",
            "6\n"
          ]
        }
      ]
    },
    {
      "cell_type": "code",
      "source": [
        "b_median = np.array([[med_b1,med_b2],[med_b3,med_b4]])\n",
        "print(f\"Matriks Downsampling Median: \\n\",b_median)"
      ],
      "metadata": {
        "colab": {
          "base_uri": "https://localhost:8080/"
        },
        "id": "Y6RxDqUccOD0",
        "outputId": "cdbdd2b5-1b09-49fe-e3ce-0de3b8e8700a"
      },
      "execution_count": 83,
      "outputs": [
        {
          "output_type": "stream",
          "name": "stdout",
          "text": [
            "Matriks Downsampling Median: \n",
            " [[3 3]\n",
            " [6 6]]\n"
          ]
        }
      ]
    },
    {
      "cell_type": "markdown",
      "source": [
        "##Mean"
      ],
      "metadata": {
        "id": "HBWgiRxjQJej"
      }
    },
    {
      "cell_type": "code",
      "source": [
        "print(b)\n",
        "print(b.shape)"
      ],
      "metadata": {
        "colab": {
          "base_uri": "https://localhost:8080/"
        },
        "outputId": "45e7fd04-81bc-42fd-e9ff-49779b379dcf",
        "id": "wYv6m6ueQJel"
      },
      "execution_count": 54,
      "outputs": [
        {
          "output_type": "stream",
          "name": "stdout",
          "text": [
            "[[0 3 0 2]\n",
            " [5 0 6 5]\n",
            " [5 7 9 4]\n",
            " [5 8 9 0]]\n",
            "(4, 4)\n"
          ]
        }
      ]
    },
    {
      "cell_type": "code",
      "source": [
        "# k = 2\n",
        "\n",
        "b_avg1 = b[0:2,0:2]\n",
        "print(b_avg1)\n",
        "b_avg1 = b_avg1.flatten()\n",
        "mean_b1 = int(sum(b_avg1)/len(b_avg1))\n",
        "print(mean_b1)"
      ],
      "metadata": {
        "colab": {
          "base_uri": "https://localhost:8080/"
        },
        "outputId": "c4ffcb6a-a1ce-4f85-a11c-f08c245cbab9",
        "id": "-TWem4kDQJem"
      },
      "execution_count": 55,
      "outputs": [
        {
          "output_type": "stream",
          "name": "stdout",
          "text": [
            "[[0 3]\n",
            " [5 0]]\n",
            "2\n"
          ]
        }
      ]
    },
    {
      "cell_type": "code",
      "source": [
        "b_avg2 = b[0:2,2:4]\n",
        "print(b_avg2)\n",
        "b_avg2 = b_avg2.flatten()\n",
        "mean_b2 = int(sum(b_avg2)/len(b_avg2))\n",
        "print(mean_b2)"
      ],
      "metadata": {
        "colab": {
          "base_uri": "https://localhost:8080/"
        },
        "outputId": "5b6d5bb8-83dc-4dfb-f98b-75bb5ffa6167",
        "id": "Xnx0ESqgQJem"
      },
      "execution_count": 56,
      "outputs": [
        {
          "output_type": "stream",
          "name": "stdout",
          "text": [
            "[[0 2]\n",
            " [6 5]]\n",
            "3\n"
          ]
        }
      ]
    },
    {
      "cell_type": "code",
      "source": [
        "b_avg3 = b[2:5,0:2]\n",
        "print(b_avg3)\n",
        "b_avg3 = b_avg3.flatten()\n",
        "mean_b3 = int(sum(b_avg3)/len(b_avg3))\n",
        "print(mean_b3)"
      ],
      "metadata": {
        "colab": {
          "base_uri": "https://localhost:8080/"
        },
        "outputId": "c81144e4-96ca-411b-8b1b-5526115fda95",
        "id": "K9mSOLxUQJen"
      },
      "execution_count": 57,
      "outputs": [
        {
          "output_type": "stream",
          "name": "stdout",
          "text": [
            "[[5 7]\n",
            " [5 8]]\n",
            "6\n"
          ]
        }
      ]
    },
    {
      "cell_type": "code",
      "source": [
        "b_avg4 = b[2:5,2:4]\n",
        "print(b_avg4)\n",
        "b_avg4 = b_avg4.flatten()\n",
        "mean_b4 = int(sum(b_avg4)/len(b_avg4))\n",
        "print(mean_b4)"
      ],
      "metadata": {
        "colab": {
          "base_uri": "https://localhost:8080/"
        },
        "outputId": "cb2a0f05-ec70-4306-9c10-c5517229b3f8",
        "id": "J84dE98dQJeo"
      },
      "execution_count": 58,
      "outputs": [
        {
          "output_type": "stream",
          "name": "stdout",
          "text": [
            "[[9 4]\n",
            " [9 0]]\n",
            "5\n"
          ]
        }
      ]
    },
    {
      "cell_type": "code",
      "source": [
        "b_mean = np.array([[mean_b1,mean_b2],[mean_b3,mean_b4]])\n",
        "print(f\"Matriks Downsampling Mean \\n\",b_mean)"
      ],
      "metadata": {
        "colab": {
          "base_uri": "https://localhost:8080/"
        },
        "outputId": "67e2793d-9a2c-4e0b-b403-984ca8f2db9b",
        "id": "UT60efFWQJeo"
      },
      "execution_count": 59,
      "outputs": [
        {
          "output_type": "stream",
          "name": "stdout",
          "text": [
            "Matriks Downsampling Mean \n",
            " [[2 3]\n",
            " [6 5]]\n"
          ]
        }
      ]
    },
    {
      "cell_type": "markdown",
      "source": [
        "##Conclusion"
      ],
      "metadata": {
        "id": "2PwVqajcWsMY"
      }
    },
    {
      "cell_type": "code",
      "source": [
        "print(f\"\"\"The result from downsampling method:\n",
        "Before downsampling: \\n{b} \\n\\nAfter downsampling:\n",
        "1. Max: \\n{b_max} \\n\\n2. Median: \\n{b_median} \\n\\n3. Mean: \\n{b_mean}\"\"\")"
      ],
      "metadata": {
        "colab": {
          "base_uri": "https://localhost:8080/"
        },
        "id": "SmhTZULzTyq4",
        "outputId": "1491bda5-2b24-4ad3-eaad-e67dc9979657"
      },
      "execution_count": 95,
      "outputs": [
        {
          "output_type": "stream",
          "name": "stdout",
          "text": [
            "The result from downsampling method:\n",
            "Before downsampling: \n",
            "[[0 3 0 2]\n",
            " [5 0 6 5]\n",
            " [5 7 9 4]\n",
            " [5 8 9 0]] \n",
            "\n",
            "After downsampling:\n",
            "1. Max: \n",
            "[[5 6]\n",
            " [8 9]] \n",
            "\n",
            "2. Median: \n",
            "[[3 3]\n",
            " [6 6]] \n",
            "\n",
            "3. Mean: \n",
            "[[2 3]\n",
            " [6 5]]\n"
          ]
        }
      ]
    },
    {
      "cell_type": "code",
      "source": [],
      "metadata": {
        "id": "kfrSLmD_US99"
      },
      "execution_count": 95,
      "outputs": []
    }
  ]
}