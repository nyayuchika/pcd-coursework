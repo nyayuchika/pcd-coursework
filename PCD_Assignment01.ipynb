{
  "nbformat": 4,
  "nbformat_minor": 0,
  "metadata": {
    "colab": {
      "provenance": [],
      "collapsed_sections": [
        "YABSfdVI2Ptw",
        "Ro9RW5Te-SmW",
        "H0nJJtPD-XdD",
        "7yOggvrc-Yag"
      ],
      "authorship_tag": "ABX9TyO2gEQWZ09uGPBOTfgifMFr",
      "include_colab_link": true
    },
    "kernelspec": {
      "name": "python3",
      "display_name": "Python 3"
    },
    "language_info": {
      "name": "python"
    }
  },
  "cells": [
    {
      "cell_type": "markdown",
      "metadata": {
        "id": "view-in-github",
        "colab_type": "text"
      },
      "source": [
        "<a href=\"https://colab.research.google.com/github/nyayuchika/pcd-coursework/blob/master/PCD_Assignment01.ipynb\" target=\"_parent\"><img src=\"https://colab.research.google.com/assets/colab-badge.svg\" alt=\"Open In Colab\"/></a>"
      ]
    },
    {
      "cell_type": "markdown",
      "source": [
        "#Upsampling"
      ],
      "metadata": {
        "id": "YABSfdVI2Ptw"
      }
    },
    {
      "cell_type": "code",
      "execution_count": 26,
      "metadata": {
        "id": "Dwl1Ov5WFQbt",
        "colab": {
          "base_uri": "https://localhost:8080/"
        },
        "outputId": "ebd4328a-072e-40af-ad3e-c79ed99d1db0"
      },
      "outputs": [
        {
          "output_type": "stream",
          "name": "stdout",
          "text": [
            "Masukkan banyak baris = 2\n",
            "Masukkan banyak kolom = 2\n",
            "Banyak baris 2\n",
            "Banyak kolom 2\n",
            "[[1 8]\n",
            " [8 3]]\n"
          ]
        }
      ],
      "source": [
        "#Generate Matrix\n",
        "import numpy as np\n",
        "m = 0\n",
        "n = 0\n",
        "m = input(\"Masukkan banyak baris = \")\n",
        "n = input(\"Masukkan banyak kolom = \")\n",
        "print(f\"Banyak baris {m}\")\n",
        "print(f\"Banyak kolom {n}\")\n",
        "m = int(m)\n",
        "n = int(n)\n",
        "a = np.random.randint(10, size=(m,n))\n",
        "print(a)"
      ]
    },
    {
      "cell_type": "markdown",
      "source": [
        "##Nearest Neighbor"
      ],
      "metadata": {
        "id": "Ro9RW5Te-SmW"
      }
    },
    {
      "cell_type": "code",
      "source": [
        "print(a)"
      ],
      "metadata": {
        "colab": {
          "base_uri": "https://localhost:8080/"
        },
        "id": "YFQZovKD2THH",
        "outputId": "6156b171-f02e-49ae-a00c-d069b4cf1ebb"
      },
      "execution_count": 27,
      "outputs": [
        {
          "output_type": "stream",
          "name": "stdout",
          "text": [
            "[[1 8]\n",
            " [8 3]]\n"
          ]
        }
      ]
    },
    {
      "cell_type": "code",
      "source": [
        "def floor(x):\n",
        "  if x>=0:\n",
        "    return int(x)\n",
        "  else:\n",
        "    return int(x)-1"
      ],
      "metadata": {
        "id": "fe0dDkJh_Jon"
      },
      "execution_count": 28,
      "outputs": []
    },
    {
      "cell_type": "code",
      "source": [
        "def minimum(x, y):\n",
        "  if x < y:\n",
        "    return x\n",
        "  else:\n",
        "    return y\n",
        "\n",
        "def minimum2(x):\n",
        "  if len(x)==0:\n",
        "    return 0\n",
        "  min_val=x[0]\n",
        "  for v in x[1:]:\n",
        "    if v<min_val:\n",
        "      min_val=v\n",
        "  return min_val"
      ],
      "metadata": {
        "id": "Gq-8awQ1AMVG"
      },
      "execution_count": 29,
      "outputs": []
    },
    {
      "cell_type": "code",
      "source": [
        "scale_factor = 2\n",
        "m_new = m * scale_factor\n",
        "n_new = n * scale_factor\n",
        "a_new = np.zeros((m_new,n_new))\n",
        "\n",
        "for i in range(m_new):\n",
        "  for j in range(n_new):\n",
        "    i2 = i/scale_factor\n",
        "    j2 = j/scale_factor\n",
        "\n",
        "    # baris\n",
        "    row_floor = int(floor(i2))\n",
        "    row_ceil = minimum(m-1, row_floor+1)\n",
        "    row_df = i2-row_floor\n",
        "    row_dc = row_ceil-i2\n",
        "    if row_df < row_dc:\n",
        "      rows = [row_floor]\n",
        "    elif row_df > row_dc:\n",
        "      rows = [row_ceil]\n",
        "    else: #sama\n",
        "      rows = [row_floor, row_ceil]\n",
        "\n",
        "    #kolom\n",
        "    col_floor = int(floor(j2))\n",
        "    col_ceil = minimum(n-1, col_floor+1)\n",
        "    col_df = j2-col_floor\n",
        "    col_dc = col_ceil-j2\n",
        "    if col_df < col_dc:\n",
        "      cols = [col_floor]\n",
        "    elif col_df > col_dc:\n",
        "      cols = [col_ceil]\n",
        "    else: #sama\n",
        "      cols = [col_floor, col_ceil]\n",
        "\n",
        "    kandidat = []\n",
        "    for r in rows:\n",
        "      for c in cols:\n",
        "        kandidat.append(a[r, c])\n",
        "    a_new[i,j] = minimum2(kandidat)\n",
        "\n",
        "print(f\"Matriks awal: \\n{a}\\n\")\n",
        "print(f\"Matriks setelah upsampling: \\n{a_new}\")\n",
        "print(a_new.shape)"
      ],
      "metadata": {
        "colab": {
          "base_uri": "https://localhost:8080/"
        },
        "id": "da0j6tX9FYGx",
        "outputId": "f88667fe-e4cb-4fc5-93ab-3863e3690763"
      },
      "execution_count": 30,
      "outputs": [
        {
          "output_type": "stream",
          "name": "stdout",
          "text": [
            "Matriks awal: \n",
            "[[1 8]\n",
            " [8 3]]\n",
            "\n",
            "Matriks setelah upsampling: \n",
            "[[1. 1. 8. 8.]\n",
            " [1. 1. 3. 3.]\n",
            " [8. 3. 3. 3.]\n",
            " [8. 3. 3. 3.]]\n",
            "(4, 4)\n"
          ]
        }
      ]
    },
    {
      "cell_type": "markdown",
      "source": [
        "##Bilinear"
      ],
      "metadata": {
        "id": "H0nJJtPD-XdD"
      }
    },
    {
      "cell_type": "code",
      "source": [
        "print(a)"
      ],
      "metadata": {
        "id": "lD3_ZAHK-YIg",
        "colab": {
          "base_uri": "https://localhost:8080/"
        },
        "outputId": "bd039d25-494d-496a-a9c7-b0830235fba8"
      },
      "execution_count": null,
      "outputs": [
        {
          "output_type": "stream",
          "name": "stdout",
          "text": [
            "[[0 8 3]\n",
            " [3 5 1]\n",
            " [5 3 3]]\n"
          ]
        }
      ]
    },
    {
      "cell_type": "code",
      "source": [
        "scale_factor = 2\n",
        "m, n = a.shape  # asumsi 'a' sudah ada\n",
        "m_new = m * scale_factor\n",
        "n_new = n * scale_factor\n",
        "a_new = np.zeros((m_new,n_new))\n",
        "\n",
        "for i in range(m_new):\n",
        "  for j in range(n_new):\n",
        "    # Koordinat di gambar lama (real number)\n",
        "    i2 = i / scale_factor\n",
        "    j2 = j / scale_factor\n",
        "\n",
        "    # Cari floor & ceil untuk baris dan kolom\n",
        "    r0 = int(floor(i2))\n",
        "    c0 = int(floor(j2))\n",
        "    r1 = min(m-1, r0+1)\n",
        "    c1 = min(n-1, c0+1)\n",
        "\n",
        "    # Hitung jarak pecahan\n",
        "    dy = i2 - r0\n",
        "    dx = j2 - c0\n",
        "\n",
        "    # Ambil 4 tetangga\n",
        "    v00 = a[r0, c0]  # kiri-bawah\n",
        "    v01 = a[r0, c1]  # kanan-bawah\n",
        "    v10 = a[r1, c0]  # kiri-atas\n",
        "    v11 = a[r1, c1]  # kanan-atas\n",
        "\n",
        "    # Bilinear interpolation\n",
        "    a_new[i, j] = (1-dx)*(1-dy)*v00 + dx*(1-dy)*v01 + (1-dx)*dy*v10 + dx*dy*v11\n",
        "\n",
        "print(f\"Matriks awal: \\n{a}\\n\")\n",
        "print(f\"Matriks setelah bilinear upsampling: \\n{a_new}\")\n",
        "print(a_new.shape)"
      ],
      "metadata": {
        "colab": {
          "base_uri": "https://localhost:8080/"
        },
        "id": "kYTBqTMizEA5",
        "outputId": "806eed8e-dcba-4b05-cdce-7beff0f6fba6"
      },
      "execution_count": null,
      "outputs": [
        {
          "output_type": "stream",
          "name": "stdout",
          "text": [
            "Matriks awal: \n",
            "[[0 8 3]\n",
            " [3 5 1]\n",
            " [5 3 3]]\n",
            "\n",
            "Matriks setelah bilinear upsampling: \n",
            "[[0.   4.   8.   5.5  3.   3.  ]\n",
            " [1.5  4.   6.5  4.25 2.   2.  ]\n",
            " [3.   4.   5.   3.   1.   1.  ]\n",
            " [4.   4.   4.   3.   2.   2.  ]\n",
            " [5.   4.   3.   3.   3.   3.  ]\n",
            " [5.   4.   3.   3.   3.   3.  ]]\n",
            "(6, 6)\n"
          ]
        }
      ]
    },
    {
      "cell_type": "markdown",
      "source": [
        "##Bicubic"
      ],
      "metadata": {
        "id": "7yOggvrc-Yag"
      }
    },
    {
      "cell_type": "code",
      "source": [
        "print(a)"
      ],
      "metadata": {
        "id": "yEwdTrLA-7q9",
        "colab": {
          "base_uri": "https://localhost:8080/"
        },
        "outputId": "e548eb44-483b-4939-fae8-ae1779a4967e"
      },
      "execution_count": null,
      "outputs": [
        {
          "output_type": "stream",
          "name": "stdout",
          "text": [
            "[[0 8 3]\n",
            " [3 5 1]\n",
            " [5 3 3]]\n"
          ]
        }
      ]
    },
    {
      "cell_type": "code",
      "source": [
        "import numpy as np\n",
        "\n",
        "def cubic_weight(t):\n",
        "    t = abs(t)\n",
        "    if t <= 1:\n",
        "        return (1.5 * t**3 - 2.5 * t**2 + 1)\n",
        "    elif t < 2:\n",
        "        return (-0.5 * t**3 + 2.5 * t**2 - 4*t + 2)\n",
        "    else:\n",
        "        return 0\n",
        "\n",
        "scale_factor = 2\n",
        "m, n = a.shape  # asumsi 'a' sudah ada\n",
        "m_new = m * scale_factor\n",
        "n_new = n * scale_factor\n",
        "a_new = np.zeros((m_new,n_new))\n",
        "\n",
        "for i in range(m_new):\n",
        "    for j in range(n_new):\n",
        "        # Koordinat di gambar lama\n",
        "        i2 = i / scale_factor\n",
        "        j2 = j / scale_factor\n",
        "\n",
        "        i0 = int(floor(i2))\n",
        "        j0 = int(floor(j2))\n",
        "\n",
        "        # Loop 4x4 tetangga\n",
        "        val = 0\n",
        "        wsum = 0\n",
        "        for di in range(-1, 3):  # -1,0,1,2\n",
        "            for dj in range(-1, 3):\n",
        "                r = min(max(i0+di, 0), m-1)  # clamp ke batas matriks\n",
        "                c = min(max(j0+dj, 0), n-1)\n",
        "                w = cubic_weight(i2 - (i0+di)) * cubic_weight(j2 - (j0+dj))\n",
        "                val += a[r,c] * w\n",
        "                wsum += w\n",
        "        if wsum != 0:\n",
        "            a_new[i,j] = val / wsum\n",
        "\n",
        "print(f\"Matriks awal: \\n{a}\\n\")\n",
        "print(f\"Matriks setelah bicubic upsampling: \\n{a_new}\")\n",
        "print(a_new.shape)"
      ],
      "metadata": {
        "colab": {
          "base_uri": "https://localhost:8080/"
        },
        "id": "A5ZbQ6KUSSHQ",
        "outputId": "69b08367-cd3a-48fd-fb9f-a8697d5d3e54"
      },
      "execution_count": null,
      "outputs": [
        {
          "output_type": "stream",
          "name": "stdout",
          "text": [
            "Matriks awal: \n",
            "[[0 8 3]\n",
            " [3 5 1]\n",
            " [5 3 3]]\n",
            "\n",
            "Matriks setelah bicubic upsampling: \n",
            "[[0.         4.3125     8.         6.         3.         2.6875    ]\n",
            " [1.375      4.296875   6.625      4.578125   1.875      1.578125  ]\n",
            " [3.         4.25       5.         3.125      1.         0.75      ]\n",
            " [4.1875     4.12109375 3.8125     2.8203125  1.875      1.75390625]\n",
            " [5.         4.         3.         2.875      3.         3.        ]\n",
            " [5.125      3.984375   2.875      2.859375   3.125      3.140625  ]]\n",
            "(6, 6)\n"
          ]
        }
      ]
    },
    {
      "cell_type": "markdown",
      "source": [
        "#Downsampling"
      ],
      "metadata": {
        "id": "DFvEeQYQ2VA6"
      }
    },
    {
      "cell_type": "code",
      "source": [
        "#Generate Matrix\n",
        "import numpy as np\n",
        "m = 0\n",
        "n = 0\n",
        "m = input(\"Masukkan banyak baris = \")\n",
        "n = input(\"Masukkan banyak kolom = \")\n",
        "print(f\"Banyak baris {m}\")\n",
        "print(f\"Banyak kolom {n}\")\n",
        "m = int(m)\n",
        "n = int(n)\n",
        "b = np.random.randint(10, size=(m,n))\n",
        "print(b)"
      ],
      "metadata": {
        "colab": {
          "base_uri": "https://localhost:8080/"
        },
        "id": "ufEA8zaOC61E",
        "outputId": "712a4be9-3169-490b-8e07-e5b3c0521084"
      },
      "execution_count": 18,
      "outputs": [
        {
          "output_type": "stream",
          "name": "stdout",
          "text": [
            "Masukkan banyak baris = 6\n",
            "Masukkan banyak kolom = 6\n",
            "Banyak baris 6\n",
            "Banyak kolom 6\n",
            "[[5 6 0 6 0 9]\n",
            " [3 9 1 4 8 3]\n",
            " [3 0 3 5 7 6]\n",
            " [7 2 1 2 6 0]\n",
            " [4 5 0 1 6 9]\n",
            " [0 9 8 9 1 5]]\n"
          ]
        }
      ]
    },
    {
      "cell_type": "markdown",
      "source": [
        "##Max"
      ],
      "metadata": {
        "id": "NAaG0nL9-8k4"
      }
    },
    {
      "cell_type": "code",
      "source": [
        "print(b)\n",
        "print(b.shape)"
      ],
      "metadata": {
        "colab": {
          "base_uri": "https://localhost:8080/"
        },
        "id": "OTaM1dG0--9Z",
        "outputId": "de96a31e-4b7d-4ea5-d603-018e68f93c70"
      },
      "execution_count": 19,
      "outputs": [
        {
          "output_type": "stream",
          "name": "stdout",
          "text": [
            "[[5 6 0 6 0 9]\n",
            " [3 9 1 4 8 3]\n",
            " [3 0 3 5 7 6]\n",
            " [7 2 1 2 6 0]\n",
            " [4 5 0 1 6 9]\n",
            " [0 9 8 9 1 5]]\n",
            "(6, 6)\n"
          ]
        }
      ]
    },
    {
      "cell_type": "code",
      "source": [
        "def max_downsampling(matriks, block_size=(2,2)):\n",
        "    rows, cols = block_size\n",
        "    max_matriks = []\n",
        "\n",
        "    for i in range(0, matriks.shape[0], rows):\n",
        "        row_list = []\n",
        "        for j in range(0, matriks.shape[1], cols):\n",
        "            block = matriks[i:i+rows, j:j+cols]\n",
        "            block_flat = block.flatten()\n",
        "            max_val = block_flat[0]\n",
        "            for val in block_flat:\n",
        "                if val > max_val:\n",
        "                    max_val = val\n",
        "            row_list.append(np.max(block))\n",
        "        max_matriks.append(row_list)\n",
        "\n",
        "    return np.array(max_matriks)\n",
        "\n",
        "print(\"Matriks asli:\")\n",
        "print(b)\n",
        "\n",
        "print(\"\\nMatriks Downsampling Max:\")\n",
        "print(max_downsampling(b, (2,2)))\n",
        "b_max = max_downsampling(b, (2,2))"
      ],
      "metadata": {
        "colab": {
          "base_uri": "https://localhost:8080/"
        },
        "id": "Zu3wkXdS7c0J",
        "outputId": "c08704fd-6e22-4032-98ef-3afb3e7eb0f1"
      },
      "execution_count": 20,
      "outputs": [
        {
          "output_type": "stream",
          "name": "stdout",
          "text": [
            "Matriks asli:\n",
            "[[5 6 0 6 0 9]\n",
            " [3 9 1 4 8 3]\n",
            " [3 0 3 5 7 6]\n",
            " [7 2 1 2 6 0]\n",
            " [4 5 0 1 6 9]\n",
            " [0 9 8 9 1 5]]\n",
            "\n",
            "Matriks Downsampling Max:\n",
            "[[9 6 9]\n",
            " [7 5 7]\n",
            " [9 9 9]]\n"
          ]
        }
      ]
    },
    {
      "cell_type": "markdown",
      "source": [
        "##Median"
      ],
      "metadata": {
        "id": "p_mGvEOR-_Yr"
      }
    },
    {
      "cell_type": "code",
      "source": [
        "print(b)"
      ],
      "metadata": {
        "colab": {
          "base_uri": "https://localhost:8080/"
        },
        "id": "d_rmWG0x_BoT",
        "outputId": "cafdb12a-8a36-4e6a-8fa3-cf6db2b7c4a6"
      },
      "execution_count": 21,
      "outputs": [
        {
          "output_type": "stream",
          "name": "stdout",
          "text": [
            "[[5 6 0 6 0 9]\n",
            " [3 9 1 4 8 3]\n",
            " [3 0 3 5 7 6]\n",
            " [7 2 1 2 6 0]\n",
            " [4 5 0 1 6 9]\n",
            " [0 9 8 9 1 5]]\n"
          ]
        }
      ]
    },
    {
      "cell_type": "code",
      "source": [
        "def median_downsampling(matriks, block_size=(2,2)):\n",
        "    rows, cols = block_size\n",
        "    median_matriks = []\n",
        "\n",
        "    for i in range(0, matriks.shape[0], rows):\n",
        "        row_list = []\n",
        "        for j in range(0, matriks.shape[1], cols):\n",
        "            block = matriks[i:i+rows, j:j+cols]\n",
        "            block_flat = np.sort(block.flatten())   # urutkan 1D\n",
        "\n",
        "            n = len(block_flat)\n",
        "            if n % 2 == 1:   # jumlah ganjil → ambil tengah langsung\n",
        "                med_val = block_flat[n // 2]\n",
        "            else:            # jumlah genap → rata-rata dua nilai tengah\n",
        "                med_val = (block_flat[n//2 - 1] + block_flat[n//2]) / 2\n",
        "\n",
        "            row_list.append(int(med_val))  # ubah ke int kalau mau konsisten\n",
        "        median_matriks.append(row_list)\n",
        "\n",
        "    return np.array(median_matriks)\n",
        "\n",
        "print(\"Matriks asli:\")\n",
        "print(b)\n",
        "\n",
        "print(\"\\nMatriks Downsampling Median:\")\n",
        "print(median_downsampling(b, (2,2)))\n",
        "b_median = median_downsampling(b, (2,2))"
      ],
      "metadata": {
        "colab": {
          "base_uri": "https://localhost:8080/"
        },
        "id": "fXm7-eQbGyhY",
        "outputId": "1470b194-fd64-42e5-9d42-87a65d176fa2"
      },
      "execution_count": 22,
      "outputs": [
        {
          "output_type": "stream",
          "name": "stdout",
          "text": [
            "Matriks asli:\n",
            "[[5 6 0 6 0 9]\n",
            " [3 9 1 4 8 3]\n",
            " [3 0 3 5 7 6]\n",
            " [7 2 1 2 6 0]\n",
            " [4 5 0 1 6 9]\n",
            " [0 9 8 9 1 5]]\n",
            "\n",
            "Matriks Downsampling Median:\n",
            "[[5 2 5]\n",
            " [2 2 6]\n",
            " [4 4 5]]\n"
          ]
        }
      ]
    },
    {
      "cell_type": "markdown",
      "source": [
        "##Mean"
      ],
      "metadata": {
        "id": "HBWgiRxjQJej"
      }
    },
    {
      "cell_type": "code",
      "source": [
        "print(b)\n",
        "print(b.shape)"
      ],
      "metadata": {
        "colab": {
          "base_uri": "https://localhost:8080/"
        },
        "outputId": "fc30948c-d24e-4fd8-8f7a-64315a7e4a5f",
        "id": "wYv6m6ueQJel"
      },
      "execution_count": 23,
      "outputs": [
        {
          "output_type": "stream",
          "name": "stdout",
          "text": [
            "[[5 6 0 6 0 9]\n",
            " [3 9 1 4 8 3]\n",
            " [3 0 3 5 7 6]\n",
            " [7 2 1 2 6 0]\n",
            " [4 5 0 1 6 9]\n",
            " [0 9 8 9 1 5]]\n",
            "(6, 6)\n"
          ]
        }
      ]
    },
    {
      "cell_type": "code",
      "source": [
        "def mean_downsampling(matriks, block_size=(2,2)):\n",
        "    rows, cols = block_size\n",
        "    mean_matriks = []\n",
        "\n",
        "    for i in range(0, matriks.shape[0], rows):\n",
        "        row_list = []\n",
        "        for j in range(0, matriks.shape[1], cols):\n",
        "            block = matriks[i:i+rows, j:j+cols]\n",
        "            block_flat = block.flatten()\n",
        "            mean_val = sum(block_flat) / len(block_flat)\n",
        "            row_list.append(mean_val)\n",
        "        mean_matriks.append(row_list)\n",
        "\n",
        "    return np.array(mean_matriks)\n",
        "\n",
        "print(\"Matriks asli:\")\n",
        "print(b)\n",
        "\n",
        "print(\"\\nMatriks Downsampling Mean:\")\n",
        "print(mean_downsampling(b, (2,2)))\n",
        "b_mean = mean_downsampling(b, (2,2))"
      ],
      "metadata": {
        "colab": {
          "base_uri": "https://localhost:8080/"
        },
        "id": "AXQbQU44G1yS",
        "outputId": "aba7e9ef-30b7-43fd-80bf-d2cd4d8981b0"
      },
      "execution_count": 24,
      "outputs": [
        {
          "output_type": "stream",
          "name": "stdout",
          "text": [
            "Matriks asli:\n",
            "[[5 6 0 6 0 9]\n",
            " [3 9 1 4 8 3]\n",
            " [3 0 3 5 7 6]\n",
            " [7 2 1 2 6 0]\n",
            " [4 5 0 1 6 9]\n",
            " [0 9 8 9 1 5]]\n",
            "\n",
            "Matriks Downsampling Mean:\n",
            "[[5.75 2.75 5.  ]\n",
            " [3.   2.75 4.75]\n",
            " [4.5  4.5  5.25]]\n"
          ]
        }
      ]
    },
    {
      "cell_type": "markdown",
      "source": [
        "##Conclusion"
      ],
      "metadata": {
        "id": "2PwVqajcWsMY"
      }
    },
    {
      "cell_type": "code",
      "source": [
        "print(f\"\"\"The result from downsampling method:\n",
        "Before downsampling: \\n{b} \\n\\nAfter downsampling:\n",
        "1. Max: \\n{b_max} \\n\\n2. Median: \\n{b_median} \\n\\n3. Mean: \\n{b_mean}\"\"\")"
      ],
      "metadata": {
        "colab": {
          "base_uri": "https://localhost:8080/"
        },
        "id": "SmhTZULzTyq4",
        "outputId": "d094eda6-4791-4811-dc01-380e1201259e"
      },
      "execution_count": 25,
      "outputs": [
        {
          "output_type": "stream",
          "name": "stdout",
          "text": [
            "The result from downsampling method:\n",
            "Before downsampling: \n",
            "[[5 6 0 6 0 9]\n",
            " [3 9 1 4 8 3]\n",
            " [3 0 3 5 7 6]\n",
            " [7 2 1 2 6 0]\n",
            " [4 5 0 1 6 9]\n",
            " [0 9 8 9 1 5]] \n",
            "\n",
            "After downsampling:\n",
            "1. Max: \n",
            "[[9 6 9]\n",
            " [7 5 7]\n",
            " [9 9 9]] \n",
            "\n",
            "2. Median: \n",
            "[[5 2 5]\n",
            " [2 2 6]\n",
            " [4 4 5]] \n",
            "\n",
            "3. Mean: \n",
            "[[5.75 2.75 5.  ]\n",
            " [3.   2.75 4.75]\n",
            " [4.5  4.5  5.25]]\n"
          ]
        }
      ]
    },
    {
      "cell_type": "code",
      "source": [],
      "metadata": {
        "id": "kfrSLmD_US99"
      },
      "execution_count": 25,
      "outputs": []
    }
  ]
}