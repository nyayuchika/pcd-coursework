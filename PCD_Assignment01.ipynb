{
  "nbformat": 4,
  "nbformat_minor": 0,
  "metadata": {
    "colab": {
      "provenance": [],
      "collapsed_sections": [
        "YABSfdVI2Ptw",
        "Ro9RW5Te-SmW",
        "H0nJJtPD-XdD",
        "7yOggvrc-Yag",
        "2PwVqajcWsMY"
      ],
      "authorship_tag": "ABX9TyPwEe3cauo9U/fvQr4pD849",
      "include_colab_link": true
    },
    "kernelspec": {
      "name": "python3",
      "display_name": "Python 3"
    },
    "language_info": {
      "name": "python"
    }
  },
  "cells": [
    {
      "cell_type": "markdown",
      "metadata": {
        "id": "view-in-github",
        "colab_type": "text"
      },
      "source": [
        "<a href=\"https://colab.research.google.com/github/nyayuchika/pcd-coursework/blob/master/PCD_Assignment01.ipynb\" target=\"_parent\"><img src=\"https://colab.research.google.com/assets/colab-badge.svg\" alt=\"Open In Colab\"/></a>"
      ]
    },
    {
      "cell_type": "markdown",
      "source": [
        "#Upsampling"
      ],
      "metadata": {
        "id": "YABSfdVI2Ptw"
      }
    },
    {
      "cell_type": "code",
      "execution_count": 1,
      "metadata": {
        "id": "Dwl1Ov5WFQbt",
        "colab": {
          "base_uri": "https://localhost:8080/"
        },
        "outputId": "443b3e0b-1520-403b-fef3-d607a0d4ed66"
      },
      "outputs": [
        {
          "output_type": "stream",
          "name": "stdout",
          "text": [
            "Banyak baris 3\n",
            "Banyak kolom 3\n",
            "[[0 8 3]\n",
            " [3 5 1]\n",
            " [5 3 3]]\n"
          ]
        }
      ],
      "source": [
        "#Generate Matrix\n",
        "import numpy as np\n",
        "m = 0\n",
        "n = 0\n",
        "m = input(\"Masukkan banyak baris = \")\n",
        "n = input(\"Masukkan banyak kolom = \")\n",
        "print(f\"Banyak baris {m}\")\n",
        "print(f\"Banyak kolom {n}\")\n",
        "m = int(m)\n",
        "n = int(n)\n",
        "a = np.random.randint(10, size=(m,n))\n",
        "print(a)"
      ]
    },
    {
      "cell_type": "markdown",
      "source": [
        "##Nearest Neighbor"
      ],
      "metadata": {
        "id": "Ro9RW5Te-SmW"
      }
    },
    {
      "cell_type": "code",
      "source": [
        "print(a)"
      ],
      "metadata": {
        "colab": {
          "base_uri": "https://localhost:8080/"
        },
        "id": "YFQZovKD2THH",
        "outputId": "b15bd462-9c1a-436f-92f2-0d8995b3791c"
      },
      "execution_count": 2,
      "outputs": [
        {
          "output_type": "stream",
          "name": "stdout",
          "text": [
            "[[0 8 3]\n",
            " [3 5 1]\n",
            " [5 3 3]]\n"
          ]
        }
      ]
    },
    {
      "cell_type": "code",
      "source": [
        "def floor(x):\n",
        "  if x>=0:\n",
        "    return int(x)\n",
        "  else:\n",
        "    return int(x)-1"
      ],
      "metadata": {
        "id": "fe0dDkJh_Jon"
      },
      "execution_count": 3,
      "outputs": []
    },
    {
      "cell_type": "code",
      "source": [
        "def minimum(x, y):\n",
        "  if x < y:\n",
        "    return x\n",
        "  else:\n",
        "    return y\n",
        "\n",
        "def minimum2(x):\n",
        "  if len(x)==0:\n",
        "    return 0\n",
        "  min_val=x[0]\n",
        "  for v in x[1:]:\n",
        "    if v<min_val:\n",
        "      min_val=v\n",
        "  return min_val"
      ],
      "metadata": {
        "id": "Gq-8awQ1AMVG"
      },
      "execution_count": 4,
      "outputs": []
    },
    {
      "cell_type": "code",
      "source": [
        "scale_factor = 2\n",
        "m_new = m * scale_factor\n",
        "n_new = n * scale_factor\n",
        "a_new = np.zeros((m_new,n_new))\n",
        "\n",
        "for i in range(m_new):\n",
        "  for j in range(n_new):\n",
        "    i2 = i/scale_factor\n",
        "    j2 = j/scale_factor\n",
        "\n",
        "    # baris\n",
        "    row_floor = int(floor(i2))\n",
        "    row_ceil = minimum(m-1, row_floor+1)\n",
        "    row_df = i2-row_floor\n",
        "    row_dc = row_ceil-i2\n",
        "    if row_df < row_dc:\n",
        "      rows = [row_floor]\n",
        "    elif row_df > row_dc:\n",
        "      rows = [row_ceil]\n",
        "    else: #sama\n",
        "      rows = [row_floor, row_ceil]\n",
        "\n",
        "    #kolom\n",
        "    col_floor = int(floor(j2))\n",
        "    col_ceil = minimum(n-1, col_floor+1)\n",
        "    col_df = j2-col_floor\n",
        "    col_dc = col_ceil-j2\n",
        "    if col_df < col_dc:\n",
        "      cols = [col_floor]\n",
        "    elif col_df > col_dc:\n",
        "      cols = [col_ceil]\n",
        "    else: #sama\n",
        "      cols = [col_floor, col_ceil]\n",
        "\n",
        "    kandidat = []\n",
        "    for r in rows:\n",
        "      for c in cols:\n",
        "        kandidat.append(a[r, c])\n",
        "    a_new[i,j] = minimum2(kandidat)\n",
        "\n",
        "print(f\"Matriks awal: \\n{a}\\n\")\n",
        "print(f\"Matriks setelah upsampling: \\n{a_new}\")\n",
        "print(a_new.shape)"
      ],
      "metadata": {
        "colab": {
          "base_uri": "https://localhost:8080/"
        },
        "id": "da0j6tX9FYGx",
        "outputId": "3d37fd73-026c-4bd1-9ebd-d8a659e24ce9"
      },
      "execution_count": 5,
      "outputs": [
        {
          "output_type": "stream",
          "name": "stdout",
          "text": [
            "Matriks awal: \n",
            "[[0 8 3]\n",
            " [3 5 1]\n",
            " [5 3 3]]\n",
            "\n",
            "Matriks setelah upsampling: \n",
            "[[0. 0. 8. 3. 3. 3.]\n",
            " [0. 0. 5. 1. 1. 1.]\n",
            " [3. 3. 5. 1. 1. 1.]\n",
            " [3. 3. 3. 1. 1. 1.]\n",
            " [5. 3. 3. 3. 3. 3.]\n",
            " [5. 3. 3. 3. 3. 3.]]\n",
            "(6, 6)\n"
          ]
        }
      ]
    },
    {
      "cell_type": "markdown",
      "source": [
        "##Bilinear"
      ],
      "metadata": {
        "id": "H0nJJtPD-XdD"
      }
    },
    {
      "cell_type": "code",
      "source": [
        "print(a)"
      ],
      "metadata": {
        "id": "lD3_ZAHK-YIg",
        "colab": {
          "base_uri": "https://localhost:8080/"
        },
        "outputId": "bd039d25-494d-496a-a9c7-b0830235fba8"
      },
      "execution_count": 6,
      "outputs": [
        {
          "output_type": "stream",
          "name": "stdout",
          "text": [
            "[[0 8 3]\n",
            " [3 5 1]\n",
            " [5 3 3]]\n"
          ]
        }
      ]
    },
    {
      "cell_type": "code",
      "source": [
        "import numpy as np\n",
        "\n",
        "scale_factor = 2\n",
        "m, n = a.shape  # asumsi 'a' sudah ada\n",
        "m_new = m * scale_factor\n",
        "n_new = n * scale_factor\n",
        "a_new = np.zeros((m_new,n_new))\n",
        "\n",
        "for i in range(m_new):\n",
        "  for j in range(n_new):\n",
        "    # Koordinat di gambar lama (real number)\n",
        "    i2 = i / scale_factor\n",
        "    j2 = j / scale_factor\n",
        "\n",
        "    # Cari floor & ceil untuk baris dan kolom\n",
        "    r0 = int(floor(i2))\n",
        "    c0 = int(floor(j2))\n",
        "    r1 = min(m-1, r0+1)\n",
        "    c1 = min(n-1, c0+1)\n",
        "\n",
        "    # Hitung jarak pecahan\n",
        "    dy = i2 - r0\n",
        "    dx = j2 - c0\n",
        "\n",
        "    # Ambil 4 tetangga\n",
        "    v00 = a[r0, c0]  # kiri-bawah\n",
        "    v01 = a[r0, c1]  # kanan-bawah\n",
        "    v10 = a[r1, c0]  # kiri-atas\n",
        "    v11 = a[r1, c1]  # kanan-atas\n",
        "\n",
        "    # Bilinear interpolation\n",
        "    a_new[i, j] = (1-dx)*(1-dy)*v00 + dx*(1-dy)*v01 + (1-dx)*dy*v10 + dx*dy*v11\n",
        "\n",
        "print(f\"Matriks awal: \\n{a}\\n\")\n",
        "print(f\"Matriks setelah bilinear upsampling: \\n{a_new}\")\n",
        "print(a_new.shape)"
      ],
      "metadata": {
        "colab": {
          "base_uri": "https://localhost:8080/"
        },
        "id": "kYTBqTMizEA5",
        "outputId": "806eed8e-dcba-4b05-cdce-7beff0f6fba6"
      },
      "execution_count": 7,
      "outputs": [
        {
          "output_type": "stream",
          "name": "stdout",
          "text": [
            "Matriks awal: \n",
            "[[0 8 3]\n",
            " [3 5 1]\n",
            " [5 3 3]]\n",
            "\n",
            "Matriks setelah bilinear upsampling: \n",
            "[[0.   4.   8.   5.5  3.   3.  ]\n",
            " [1.5  4.   6.5  4.25 2.   2.  ]\n",
            " [3.   4.   5.   3.   1.   1.  ]\n",
            " [4.   4.   4.   3.   2.   2.  ]\n",
            " [5.   4.   3.   3.   3.   3.  ]\n",
            " [5.   4.   3.   3.   3.   3.  ]]\n",
            "(6, 6)\n"
          ]
        }
      ]
    },
    {
      "cell_type": "markdown",
      "source": [
        "##Bicubic"
      ],
      "metadata": {
        "id": "7yOggvrc-Yag"
      }
    },
    {
      "cell_type": "code",
      "source": [
        "print(a)"
      ],
      "metadata": {
        "id": "yEwdTrLA-7q9",
        "colab": {
          "base_uri": "https://localhost:8080/"
        },
        "outputId": "e548eb44-483b-4939-fae8-ae1779a4967e"
      },
      "execution_count": 8,
      "outputs": [
        {
          "output_type": "stream",
          "name": "stdout",
          "text": [
            "[[0 8 3]\n",
            " [3 5 1]\n",
            " [5 3 3]]\n"
          ]
        }
      ]
    },
    {
      "cell_type": "code",
      "source": [
        "import numpy as np\n",
        "\n",
        "def cubic_weight(t):\n",
        "    t = abs(t)\n",
        "    if t <= 1:\n",
        "        return (1.5 * t**3 - 2.5 * t**2 + 1)\n",
        "    elif t < 2:\n",
        "        return (-0.5 * t**3 + 2.5 * t**2 - 4*t + 2)\n",
        "    else:\n",
        "        return 0\n",
        "\n",
        "scale_factor = 2\n",
        "m, n = a.shape  # asumsi 'a' sudah ada\n",
        "m_new = m * scale_factor\n",
        "n_new = n * scale_factor\n",
        "a_new = np.zeros((m_new,n_new))\n",
        "\n",
        "for i in range(m_new):\n",
        "    for j in range(n_new):\n",
        "        # Koordinat di gambar lama\n",
        "        i2 = i / scale_factor\n",
        "        j2 = j / scale_factor\n",
        "\n",
        "        i0 = int(floor(i2))\n",
        "        j0 = int(floor(j2))\n",
        "\n",
        "        # Loop 4x4 tetangga\n",
        "        val = 0\n",
        "        wsum = 0\n",
        "        for di in range(-1, 3):  # -1,0,1,2\n",
        "            for dj in range(-1, 3):\n",
        "                r = min(max(i0+di, 0), m-1)  # clamp ke batas matriks\n",
        "                c = min(max(j0+dj, 0), n-1)\n",
        "                w = cubic_weight(i2 - (i0+di)) * cubic_weight(j2 - (j0+dj))\n",
        "                val += a[r,c] * w\n",
        "                wsum += w\n",
        "        if wsum != 0:\n",
        "            a_new[i,j] = val / wsum\n",
        "\n",
        "print(f\"Matriks awal: \\n{a}\\n\")\n",
        "print(f\"Matriks setelah bicubic upsampling: \\n{a_new}\")\n",
        "print(a_new.shape)"
      ],
      "metadata": {
        "colab": {
          "base_uri": "https://localhost:8080/"
        },
        "id": "A5ZbQ6KUSSHQ",
        "outputId": "69b08367-cd3a-48fd-fb9f-a8697d5d3e54"
      },
      "execution_count": 9,
      "outputs": [
        {
          "output_type": "stream",
          "name": "stdout",
          "text": [
            "Matriks awal: \n",
            "[[0 8 3]\n",
            " [3 5 1]\n",
            " [5 3 3]]\n",
            "\n",
            "Matriks setelah bicubic upsampling: \n",
            "[[0.         4.3125     8.         6.         3.         2.6875    ]\n",
            " [1.375      4.296875   6.625      4.578125   1.875      1.578125  ]\n",
            " [3.         4.25       5.         3.125      1.         0.75      ]\n",
            " [4.1875     4.12109375 3.8125     2.8203125  1.875      1.75390625]\n",
            " [5.         4.         3.         2.875      3.         3.        ]\n",
            " [5.125      3.984375   2.875      2.859375   3.125      3.140625  ]]\n",
            "(6, 6)\n"
          ]
        }
      ]
    },
    {
      "cell_type": "markdown",
      "source": [
        "#Downsampling"
      ],
      "metadata": {
        "id": "DFvEeQYQ2VA6"
      }
    },
    {
      "cell_type": "code",
      "source": [
        "#Generate Matrix\n",
        "import numpy as np\n",
        "m = 0\n",
        "n = 0\n",
        "m = input(\"Masukkan banyak baris = \")\n",
        "n = input(\"Masukkan banyak kolom = \")\n",
        "print(f\"Banyak baris {m}\")\n",
        "print(f\"Banyak kolom {n}\")\n",
        "m = int(m)\n",
        "n = int(n)\n",
        "b = np.random.randint(10, size=(m,n))\n",
        "print(b)"
      ],
      "metadata": {
        "colab": {
          "base_uri": "https://localhost:8080/"
        },
        "id": "ufEA8zaOC61E",
        "outputId": "f1294fa0-cd06-45a3-bbf6-490b89e163fe"
      },
      "execution_count": 10,
      "outputs": [
        {
          "output_type": "stream",
          "name": "stdout",
          "text": [
            "Banyak baris 4\n",
            "Banyak kolom 4\n",
            "[[5 4 9 1]\n",
            " [4 6 2 7]\n",
            " [7 2 1 8]\n",
            " [1 6 0 8]]\n"
          ]
        }
      ]
    },
    {
      "cell_type": "markdown",
      "source": [
        "##Max"
      ],
      "metadata": {
        "id": "NAaG0nL9-8k4"
      }
    },
    {
      "cell_type": "code",
      "source": [
        "print(b)\n",
        "print(b.shape)"
      ],
      "metadata": {
        "colab": {
          "base_uri": "https://localhost:8080/"
        },
        "id": "OTaM1dG0--9Z",
        "outputId": "cf4ca779-53b8-4669-8d32-88cd130233c2"
      },
      "execution_count": 11,
      "outputs": [
        {
          "output_type": "stream",
          "name": "stdout",
          "text": [
            "[[5 4 9 1]\n",
            " [4 6 2 7]\n",
            " [7 2 1 8]\n",
            " [1 6 0 8]]\n",
            "(4, 4)\n"
          ]
        }
      ]
    },
    {
      "cell_type": "code",
      "source": [
        "b_m1 = b[0:2,0:2]\n",
        "print(b_m1)\n",
        "max_b1 = np.max(b_m1)\n",
        "print(max_b1)"
      ],
      "metadata": {
        "colab": {
          "base_uri": "https://localhost:8080/"
        },
        "id": "LN2F6y-ECm67",
        "outputId": "ff533780-3c56-4308-e0be-156cbd9dfbee"
      },
      "execution_count": 13,
      "outputs": [
        {
          "output_type": "stream",
          "name": "stdout",
          "text": [
            "[[5 4]\n",
            " [4 6]]\n",
            "6\n"
          ]
        }
      ]
    },
    {
      "cell_type": "code",
      "source": [
        "b_m2 = b[0:2,2:4]\n",
        "print(b_m2)\n",
        "max_b2 = np.max(b_m2)\n",
        "print(max_b2)"
      ],
      "metadata": {
        "colab": {
          "base_uri": "https://localhost:8080/"
        },
        "id": "3I8fFzFzLLm5",
        "outputId": "a4d8b1d1-8a58-4131-e105-4a92e00690db"
      },
      "execution_count": 14,
      "outputs": [
        {
          "output_type": "stream",
          "name": "stdout",
          "text": [
            "[[9 1]\n",
            " [2 7]]\n",
            "9\n"
          ]
        }
      ]
    },
    {
      "cell_type": "code",
      "source": [
        "b_m3 = b[2:5,0:2]\n",
        "print(b_m3)\n",
        "max_b3 = np.max(b_m3)\n",
        "print(max_b3)"
      ],
      "metadata": {
        "colab": {
          "base_uri": "https://localhost:8080/"
        },
        "outputId": "c5ffe6ec-2f95-46be-fb46-280f1094d962",
        "id": "VGsuqEltPmF4"
      },
      "execution_count": 15,
      "outputs": [
        {
          "output_type": "stream",
          "name": "stdout",
          "text": [
            "[[7 2]\n",
            " [1 6]]\n",
            "7\n"
          ]
        }
      ]
    },
    {
      "cell_type": "code",
      "source": [
        "b_m4 = b[2:5,2:4]\n",
        "print(b_m4)\n",
        "max_b4 = np.max(b_m4)\n",
        "print(max_b4)"
      ],
      "metadata": {
        "colab": {
          "base_uri": "https://localhost:8080/"
        },
        "id": "O75kk5K6N02n",
        "outputId": "e43993e7-5fca-4038-94de-66c34e20506c"
      },
      "execution_count": 16,
      "outputs": [
        {
          "output_type": "stream",
          "name": "stdout",
          "text": [
            "[[1 8]\n",
            " [0 8]]\n",
            "8\n"
          ]
        }
      ]
    },
    {
      "cell_type": "code",
      "source": [
        "b_max = np.array([[max_b1,max_b2],[max_b3,max_b4]])\n",
        "print(f\"Matriks Downsampling Max: \\n\",b_max)"
      ],
      "metadata": {
        "colab": {
          "base_uri": "https://localhost:8080/"
        },
        "id": "n-dBFH92PvFI",
        "outputId": "20e56874-dc06-4565-e705-dd0d65b390e3"
      },
      "execution_count": 17,
      "outputs": [
        {
          "output_type": "stream",
          "name": "stdout",
          "text": [
            "Matriks Downsampling Max: \n",
            " [[6 9]\n",
            " [7 8]]\n"
          ]
        }
      ]
    },
    {
      "cell_type": "code",
      "source": [
        "def max_downsampling(matriks, block_size=(2,2)):\n",
        "    rows, cols = block_size\n",
        "    max_matriks = []\n",
        "\n",
        "    for i in range(0, matriks.shape[0], rows):\n",
        "        row_list = []\n",
        "        for j in range(0, matriks.shape[1], cols):\n",
        "            block = matriks[i:i+rows, j:j+cols]\n",
        "            block_flat = block.flatten()\n",
        "            max_val = block_flat[0]\n",
        "            for val in block_flat:\n",
        "                if val > max_val:\n",
        "                    max_val = val\n",
        "            row_list.append(np.max(block))\n",
        "        max_matriks.append(row_list)\n",
        "\n",
        "    return np.array(max_matriks)\n",
        "\n",
        "print(\"Matriks asli:\")\n",
        "print(b)\n",
        "\n",
        "print(\"\\nHasil max downsampling:\")\n",
        "print(max_downsampling(b, (2,2)))"
      ],
      "metadata": {
        "colab": {
          "base_uri": "https://localhost:8080/"
        },
        "id": "Zu3wkXdS7c0J",
        "outputId": "3f98d6a4-5d0e-4dee-a87a-e82af701188d"
      },
      "execution_count": 19,
      "outputs": [
        {
          "output_type": "stream",
          "name": "stdout",
          "text": [
            "Matriks asli:\n",
            "[[5 4 9 1]\n",
            " [4 6 2 7]\n",
            " [7 2 1 8]\n",
            " [1 6 0 8]]\n",
            "\n",
            "Hasil max downsampling:\n",
            "[[6 9]\n",
            " [7 8]]\n"
          ]
        }
      ]
    },
    {
      "cell_type": "markdown",
      "source": [
        "##Median"
      ],
      "metadata": {
        "id": "p_mGvEOR-_Yr"
      }
    },
    {
      "cell_type": "code",
      "source": [
        "print(b)"
      ],
      "metadata": {
        "colab": {
          "base_uri": "https://localhost:8080/"
        },
        "id": "d_rmWG0x_BoT",
        "outputId": "c820b743-fc4b-4243-ab3c-8108ac03a680"
      },
      "execution_count": 20,
      "outputs": [
        {
          "output_type": "stream",
          "name": "stdout",
          "text": [
            "[[5 4 9 1]\n",
            " [4 6 2 7]\n",
            " [7 2 1 8]\n",
            " [1 6 0 8]]\n"
          ]
        }
      ]
    },
    {
      "cell_type": "code",
      "source": [
        "#b_med1 = b[0:2,2:4]\n",
        "#print(b_med1)\n",
        "#b_med1 = b_med1.flatten()\n",
        "#b_med1 = np.sort(b_med1)\n",
        "#print(b_med1)\n",
        "#med_b1 = int(statistics.median(b_med1))\n",
        "#print(med_b1)"
      ],
      "metadata": {
        "id": "UcM9EHXtX9ZC"
      },
      "execution_count": 22,
      "outputs": []
    },
    {
      "cell_type": "code",
      "source": [
        "#b_med2 = b[0:2,2:5]\n",
        "#print(b_med2)\n",
        "#b_med2 = b_med2.flatten()\n",
        "#b_med2 = np.sort(b_med2)\n",
        "#print(b_med2)\n",
        "#med_b2 = int(statistics.median(b_med2))\n",
        "#print(med_b2)"
      ],
      "metadata": {
        "id": "WAoqsnl-bgD7"
      },
      "execution_count": 23,
      "outputs": []
    },
    {
      "cell_type": "code",
      "source": [
        "#b_med3 = b[2:5,0:2]\n",
        "#print(b_med3)\n",
        "#b_med3 = b_med3.flatten()\n",
        "#b_med3 = np.sort(b_med3)\n",
        "#print(b_med3)\n",
        "#med_b3 = int(statistics.median(b_med3))\n",
        "#print(med_b3)"
      ],
      "metadata": {
        "id": "_t_eGfozbIh_"
      },
      "execution_count": 25,
      "outputs": []
    },
    {
      "cell_type": "code",
      "source": [
        "#b_med4 = b[2:5,2:5]\n",
        "#print(b_med4)\n",
        "#b_med4 = b_med4.flatten()\n",
        "#b_med4 = np.sort(b_med4)\n",
        "#print(b_med4)\n",
        "#med_b4 = int(statistics.median(b_med4))\n",
        "#print(med_b4)"
      ],
      "metadata": {
        "id": "7_VKLgZKbuT4"
      },
      "execution_count": 24,
      "outputs": []
    },
    {
      "cell_type": "code",
      "source": [
        "b_median = np.array([[med_b1,med_b2],[med_b3,med_b4]])\n",
        "print(f\"Matriks Downsampling Median: \\n\",b_median)"
      ],
      "metadata": {
        "colab": {
          "base_uri": "https://localhost:8080/"
        },
        "id": "Y6RxDqUccOD0",
        "outputId": "cdbdd2b5-1b09-49fe-e3ce-0de3b8e8700a"
      },
      "execution_count": null,
      "outputs": [
        {
          "output_type": "stream",
          "name": "stdout",
          "text": [
            "Matriks Downsampling Median: \n",
            " [[3 3]\n",
            " [6 6]]\n"
          ]
        }
      ]
    },
    {
      "cell_type": "code",
      "source": [
        "def median_downsampling(matriks, block_size=(2,2)):\n",
        "    rows, cols = block_size\n",
        "    median_matriks = []\n",
        "\n",
        "    for i in range(0, matriks.shape[0], rows):\n",
        "        row_list = []\n",
        "        for j in range(0, matriks.shape[1], cols):\n",
        "            block = matriks[i:i+rows, j:j+cols]\n",
        "            block_flat = np.sort(block.flatten())   # urutkan 1D\n",
        "\n",
        "            n = len(block_flat)\n",
        "            if n % 2 == 1:   # jumlah ganjil → ambil tengah langsung\n",
        "                med_val = block_flat[n // 2]\n",
        "            else:            # jumlah genap → rata-rata dua nilai tengah\n",
        "                med_val = (block_flat[n//2 - 1] + block_flat[n//2]) / 2\n",
        "\n",
        "            row_list.append(int(med_val))  # ubah ke int kalau mau konsisten\n",
        "        median_matriks.append(row_list)\n",
        "\n",
        "    return np.array(median_matriks)\n",
        "\n",
        "print(\"Matriks asli:\")\n",
        "print(b)\n",
        "\n",
        "print(\"\\n Hasil median downsampling:\")\n",
        "print(median_downsampling(b, (2,2)))"
      ],
      "metadata": {
        "colab": {
          "base_uri": "https://localhost:8080/"
        },
        "id": "fXm7-eQbGyhY",
        "outputId": "438bc5e6-3684-4f7f-d893-29dc3f48e2a6"
      },
      "execution_count": 26,
      "outputs": [
        {
          "output_type": "stream",
          "name": "stdout",
          "text": [
            "Matriks asli:\n",
            "[[5 4 9 1]\n",
            " [4 6 2 7]\n",
            " [7 2 1 8]\n",
            " [1 6 0 8]]\n",
            "\n",
            " Hasil median downsampling:\n",
            "[[4 4]\n",
            " [4 4]]\n"
          ]
        }
      ]
    },
    {
      "cell_type": "markdown",
      "source": [
        "##Mean"
      ],
      "metadata": {
        "id": "HBWgiRxjQJej"
      }
    },
    {
      "cell_type": "code",
      "source": [
        "print(b)\n",
        "print(b.shape)"
      ],
      "metadata": {
        "colab": {
          "base_uri": "https://localhost:8080/"
        },
        "outputId": "1d291117-5ee0-4954-8977-98e6ca865b64",
        "id": "wYv6m6ueQJel"
      },
      "execution_count": 27,
      "outputs": [
        {
          "output_type": "stream",
          "name": "stdout",
          "text": [
            "[[5 4 9 1]\n",
            " [4 6 2 7]\n",
            " [7 2 1 8]\n",
            " [1 6 0 8]]\n",
            "(4, 4)\n"
          ]
        }
      ]
    },
    {
      "cell_type": "code",
      "source": [
        "b_avg1 = b[0:2,0:2]\n",
        "print(b_avg1)\n",
        "b_avg1 = b_avg1.flatten()\n",
        "mean_b1 = int(sum(b_avg1)/len(b_avg1))\n",
        "print(mean_b1)"
      ],
      "metadata": {
        "colab": {
          "base_uri": "https://localhost:8080/"
        },
        "outputId": "4ada4a0f-fa5a-47b9-a5d0-5ee74fe2d0a8",
        "id": "-TWem4kDQJem"
      },
      "execution_count": 30,
      "outputs": [
        {
          "output_type": "stream",
          "name": "stdout",
          "text": [
            "[[5 4]\n",
            " [4 6]]\n",
            "4\n"
          ]
        }
      ]
    },
    {
      "cell_type": "code",
      "source": [
        "b_avg2 = b[0:2,2:4]\n",
        "print(b_avg2)\n",
        "b_avg2 = b_avg2.flatten()\n",
        "mean_b2 = int(sum(b_avg2)/len(b_avg2))\n",
        "print(mean_b2)"
      ],
      "metadata": {
        "colab": {
          "base_uri": "https://localhost:8080/"
        },
        "outputId": "bd6c491d-ce5c-4c73-d35a-9184f4c42ff7",
        "id": "Xnx0ESqgQJem"
      },
      "execution_count": 31,
      "outputs": [
        {
          "output_type": "stream",
          "name": "stdout",
          "text": [
            "[[9 1]\n",
            " [2 7]]\n",
            "4\n"
          ]
        }
      ]
    },
    {
      "cell_type": "code",
      "source": [
        "b_avg3 = b[2:5,0:2]\n",
        "print(b_avg3)\n",
        "b_avg3 = b_avg3.flatten()\n",
        "mean_b3 = int(sum(b_avg3)/len(b_avg3))\n",
        "print(mean_b3)"
      ],
      "metadata": {
        "colab": {
          "base_uri": "https://localhost:8080/"
        },
        "outputId": "2fdd6363-24fa-4a4e-fc7d-90f3276e352f",
        "id": "K9mSOLxUQJen"
      },
      "execution_count": 32,
      "outputs": [
        {
          "output_type": "stream",
          "name": "stdout",
          "text": [
            "[[7 2]\n",
            " [1 6]]\n",
            "4\n"
          ]
        }
      ]
    },
    {
      "cell_type": "code",
      "source": [
        "b_avg4 = b[2:5,2:4]\n",
        "print(b_avg4)\n",
        "b_avg4 = b_avg4.flatten()\n",
        "mean_b4 = int(sum(b_avg4)/len(b_avg4))\n",
        "print(mean_b4)"
      ],
      "metadata": {
        "colab": {
          "base_uri": "https://localhost:8080/"
        },
        "outputId": "2a3ddf54-1f12-4d6a-9972-958beb6063ec",
        "id": "J84dE98dQJeo"
      },
      "execution_count": 33,
      "outputs": [
        {
          "output_type": "stream",
          "name": "stdout",
          "text": [
            "[[1 8]\n",
            " [0 8]]\n",
            "4\n"
          ]
        }
      ]
    },
    {
      "cell_type": "code",
      "source": [
        "b_mean = np.array([[mean_b1,mean_b2],[mean_b3,mean_b4]])\n",
        "print(f\"Matriks Downsampling Mean \\n\",b_mean)"
      ],
      "metadata": {
        "colab": {
          "base_uri": "https://localhost:8080/"
        },
        "outputId": "cf6efdac-e14e-41c8-a824-829e84f9f5cd",
        "id": "UT60efFWQJeo"
      },
      "execution_count": 34,
      "outputs": [
        {
          "output_type": "stream",
          "name": "stdout",
          "text": [
            "Matriks Downsampling Mean \n",
            " [[4 4]\n",
            " [4 4]]\n"
          ]
        }
      ]
    },
    {
      "cell_type": "code",
      "source": [
        "def mean_downsampling(matriks, block_size=(2,2)):\n",
        "    rows, cols = block_size\n",
        "    mean_matriks = []\n",
        "\n",
        "    for i in range(0, matriks.shape[0], rows):\n",
        "        row_list = []\n",
        "        for j in range(0, matriks.shape[1], cols):\n",
        "            block = matriks[i:i+rows, j:j+cols]\n",
        "            block_flat = block.flatten()\n",
        "            mean_val = sum(block_flat) / len(block_flat)\n",
        "            row_list.append(mean_val)\n",
        "        mean_matriks.append(row_list)\n",
        "\n",
        "    return np.array(mean_matriks)\n",
        "\n",
        "print(\"Matriks asli:\")\n",
        "print(b)\n",
        "\n",
        "print(\"\\nHasil mean downsampling:\")\n",
        "print(mean_downsampling(b, (2,2)))"
      ],
      "metadata": {
        "colab": {
          "base_uri": "https://localhost:8080/"
        },
        "id": "AXQbQU44G1yS",
        "outputId": "1bfcc7af-3142-4d04-a442-9fbaa3ef5b3b"
      },
      "execution_count": 36,
      "outputs": [
        {
          "output_type": "stream",
          "name": "stdout",
          "text": [
            "Matriks asli:\n",
            "[[5 4 9 1]\n",
            " [4 6 2 7]\n",
            " [7 2 1 8]\n",
            " [1 6 0 8]]\n",
            "\n",
            "Hasil mean downsampling:\n",
            "[[4.75 4.75]\n",
            " [4.   4.25]]\n"
          ]
        }
      ]
    },
    {
      "cell_type": "markdown",
      "source": [
        "##Conclusion"
      ],
      "metadata": {
        "id": "2PwVqajcWsMY"
      }
    },
    {
      "cell_type": "code",
      "source": [
        "print(f\"\"\"The result from downsampling method:\n",
        "Before downsampling: \\n{b} \\n\\nAfter downsampling:\n",
        "1. Max: \\n{b_max} \\n\\n2. Median: \\n{b_median} \\n\\n3. Mean: \\n{b_mean}\"\"\")"
      ],
      "metadata": {
        "colab": {
          "base_uri": "https://localhost:8080/",
          "height": 141
        },
        "id": "SmhTZULzTyq4",
        "outputId": "1e094082-353d-4461-e04b-b4097ed74a95"
      },
      "execution_count": 39,
      "outputs": [
        {
          "output_type": "error",
          "ename": "SyntaxError",
          "evalue": "invalid syntax (ipython-input-4145091373.py, line 1)",
          "traceback": [
            "\u001b[0;36m  File \u001b[0;32m\"/tmp/ipython-input-4145091373.py\"\u001b[0;36m, line \u001b[0;32m1\u001b[0m\n\u001b[0;31m    \"\"\"print(f\"\"\"The result from downsampling method:\u001b[0m\n\u001b[0m                 ^\u001b[0m\n\u001b[0;31mSyntaxError\u001b[0m\u001b[0;31m:\u001b[0m invalid syntax\n"
          ]
        }
      ]
    },
    {
      "cell_type": "code",
      "source": [],
      "metadata": {
        "id": "kfrSLmD_US99"
      },
      "execution_count": null,
      "outputs": []
    }
  ]
}