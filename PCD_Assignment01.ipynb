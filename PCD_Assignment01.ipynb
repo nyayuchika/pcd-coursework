{
  "nbformat": 4,
  "nbformat_minor": 0,
  "metadata": {
    "colab": {
      "provenance": [],
      "collapsed_sections": [
        "YABSfdVI2Ptw",
        "Ro9RW5Te-SmW",
        "H0nJJtPD-XdD",
        "7yOggvrc-Yag",
        "NAaG0nL9-8k4",
        "p_mGvEOR-_Yr"
      ],
      "authorship_tag": "ABX9TyNJMHzNTAkPTOtqBvQnkkkD",
      "include_colab_link": true
    },
    "kernelspec": {
      "name": "python3",
      "display_name": "Python 3"
    },
    "language_info": {
      "name": "python"
    }
  },
  "cells": [
    {
      "cell_type": "markdown",
      "metadata": {
        "id": "view-in-github",
        "colab_type": "text"
      },
      "source": [
        "<a href=\"https://colab.research.google.com/github/nyayuchika/pcd-coursework-nyayuchika/blob/master/PCD_Assignment01.ipynb\" target=\"_parent\"><img src=\"https://colab.research.google.com/assets/colab-badge.svg\" alt=\"Open In Colab\"/></a>"
      ]
    },
    {
      "cell_type": "markdown",
      "source": [
        "#Upsampling"
      ],
      "metadata": {
        "id": "YABSfdVI2Ptw"
      }
    },
    {
      "cell_type": "code",
      "execution_count": 1,
      "metadata": {
        "id": "Dwl1Ov5WFQbt",
        "colab": {
          "base_uri": "https://localhost:8080/"
        },
        "outputId": "75eed11c-f9ed-4f98-a597-28634c56a18c"
      },
      "outputs": [
        {
          "output_type": "stream",
          "name": "stdout",
          "text": [
            "Masukkan banyak baris = 3\n",
            "Masukkan banyak kolom = 3\n",
            "Banyak baris 3\n",
            "Banyak kolom 3\n",
            "[[7 0 4]\n",
            " [4 3 1]\n",
            " [4 9 9]]\n"
          ]
        }
      ],
      "source": [
        "#Generate Matrix\n",
        "import numpy as np\n",
        "m = 0\n",
        "n = 0\n",
        "m = input(\"Masukkan banyak baris = \")\n",
        "n = input(\"Masukkan banyak kolom = \")\n",
        "print(f\"Banyak baris {m}\")\n",
        "print(f\"Banyak kolom {n}\")\n",
        "m = int(m)\n",
        "n = int(n)\n",
        "a = np.random.randint(10, size=(m,n))\n",
        "print(a)"
      ]
    },
    {
      "cell_type": "markdown",
      "source": [
        "##Nearest Neighbor"
      ],
      "metadata": {
        "id": "Ro9RW5Te-SmW"
      }
    },
    {
      "cell_type": "code",
      "source": [
        "print(a)"
      ],
      "metadata": {
        "colab": {
          "base_uri": "https://localhost:8080/"
        },
        "id": "YFQZovKD2THH",
        "outputId": "69524e37-71c1-4347-9ddc-b7aa6ff05c4a"
      },
      "execution_count": 2,
      "outputs": [
        {
          "output_type": "stream",
          "name": "stdout",
          "text": [
            "[[7 0 4]\n",
            " [4 3 1]\n",
            " [4 9 9]]\n"
          ]
        }
      ]
    },
    {
      "cell_type": "code",
      "source": [
        "k = 2\n",
        "\n"
      ],
      "metadata": {
        "id": "0DUFZ1Jz_PuQ"
      },
      "execution_count": 3,
      "outputs": []
    },
    {
      "cell_type": "code",
      "source": [],
      "metadata": {
        "id": "wM5vWuhMAtkH"
      },
      "execution_count": 3,
      "outputs": []
    },
    {
      "cell_type": "markdown",
      "source": [
        "##Bilinear"
      ],
      "metadata": {
        "id": "H0nJJtPD-XdD"
      }
    },
    {
      "cell_type": "code",
      "source": [],
      "metadata": {
        "id": "lD3_ZAHK-YIg"
      },
      "execution_count": 3,
      "outputs": []
    },
    {
      "cell_type": "markdown",
      "source": [
        "##Bicubic"
      ],
      "metadata": {
        "id": "7yOggvrc-Yag"
      }
    },
    {
      "cell_type": "code",
      "source": [],
      "metadata": {
        "id": "yEwdTrLA-7q9"
      },
      "execution_count": 3,
      "outputs": []
    },
    {
      "cell_type": "markdown",
      "source": [
        "#Downsampling"
      ],
      "metadata": {
        "id": "DFvEeQYQ2VA6"
      }
    },
    {
      "cell_type": "code",
      "source": [
        "#Generate Matrix\n",
        "import numpy as np\n",
        "m = 0\n",
        "n = 0\n",
        "m = input(\"Masukkan banyak baris = \")\n",
        "n = input(\"Masukkan banyak kolom = \")\n",
        "print(f\"Banyak baris {m}\")\n",
        "print(f\"Banyak kolom {n}\")\n",
        "m = int(m)\n",
        "n = int(n)\n",
        "b = np.random.randint(10, size=(m,n))\n",
        "print(b)"
      ],
      "metadata": {
        "colab": {
          "base_uri": "https://localhost:8080/"
        },
        "id": "ufEA8zaOC61E",
        "outputId": "a250ed58-aead-4a5d-dc66-bdcc133f0089"
      },
      "execution_count": 4,
      "outputs": [
        {
          "output_type": "stream",
          "name": "stdout",
          "text": [
            "Masukkan banyak baris = 4\n",
            "Masukkan banyak kolom = 4\n",
            "Banyak baris 4\n",
            "Banyak kolom 4\n",
            "[[0 3 0 2]\n",
            " [5 0 6 5]\n",
            " [5 7 9 4]\n",
            " [5 8 9 0]]\n"
          ]
        }
      ]
    },
    {
      "cell_type": "markdown",
      "source": [
        "##Max"
      ],
      "metadata": {
        "id": "NAaG0nL9-8k4"
      }
    },
    {
      "cell_type": "code",
      "source": [
        "print(b)\n",
        "print(b.shape)"
      ],
      "metadata": {
        "colab": {
          "base_uri": "https://localhost:8080/"
        },
        "id": "OTaM1dG0--9Z",
        "outputId": "87531aa4-ad75-4677-b8d1-ade848cf3534"
      },
      "execution_count": 5,
      "outputs": [
        {
          "output_type": "stream",
          "name": "stdout",
          "text": [
            "[[0 3 0 2]\n",
            " [5 0 6 5]\n",
            " [5 7 9 4]\n",
            " [5 8 9 0]]\n",
            "(4, 4)\n"
          ]
        }
      ]
    },
    {
      "cell_type": "code",
      "source": [
        "# k = 2\n",
        "\n",
        "b_m1 = b[0:2,0:2]\n",
        "print(b_m1)\n",
        "max_m1 = np.max(b_m1)\n",
        "print(max_m1)"
      ],
      "metadata": {
        "colab": {
          "base_uri": "https://localhost:8080/"
        },
        "id": "LN2F6y-ECm67",
        "outputId": "bdba9a34-9e0b-4177-ce75-e4df9b7c3d36"
      },
      "execution_count": 6,
      "outputs": [
        {
          "output_type": "stream",
          "name": "stdout",
          "text": [
            "[[0 3]\n",
            " [5 0]]\n",
            "5\n"
          ]
        }
      ]
    },
    {
      "cell_type": "code",
      "source": [
        "b_m2 = b[0:2,2:4]\n",
        "print(b_m2)\n",
        "max_m2 = np.max(b_m2)\n",
        "print(max_m2)"
      ],
      "metadata": {
        "colab": {
          "base_uri": "https://localhost:8080/"
        },
        "id": "3I8fFzFzLLm5",
        "outputId": "40599258-42eb-4727-ee27-c748b7f04326"
      },
      "execution_count": 19,
      "outputs": [
        {
          "output_type": "stream",
          "name": "stdout",
          "text": [
            "[[0 2]\n",
            " [6 5]]\n",
            "6\n"
          ]
        }
      ]
    },
    {
      "cell_type": "code",
      "source": [
        "b_m3 = b[2:5,0:2]\n",
        "print(b_m3)\n",
        "max_m3 = np.max(b_m3)\n",
        "print(max_m3)"
      ],
      "metadata": {
        "colab": {
          "base_uri": "https://localhost:8080/"
        },
        "outputId": "1aef9d22-458e-4bf1-8ec1-2ba66413f992",
        "id": "VGsuqEltPmF4"
      },
      "execution_count": 23,
      "outputs": [
        {
          "output_type": "stream",
          "name": "stdout",
          "text": [
            "[[5 7]\n",
            " [5 8]]\n",
            "8\n"
          ]
        }
      ]
    },
    {
      "cell_type": "code",
      "source": [
        "b_m4 = b[2:5,2:4]\n",
        "print(b_m4)\n",
        "max_m4 = np.max(b_m4)\n",
        "print(max_m4)"
      ],
      "metadata": {
        "colab": {
          "base_uri": "https://localhost:8080/"
        },
        "id": "O75kk5K6N02n",
        "outputId": "d3707144-9850-4f06-caa0-a20c79955186"
      },
      "execution_count": 22,
      "outputs": [
        {
          "output_type": "stream",
          "name": "stdout",
          "text": [
            "[[9 4]\n",
            " [9 0]]\n",
            "9\n"
          ]
        }
      ]
    },
    {
      "cell_type": "code",
      "source": [
        "b_max = np.array([[max_m1,max_m2],[max_m3,max_m4]])\n",
        "print(f\"Matriks Downsampling Max: \\n\",b_max)"
      ],
      "metadata": {
        "colab": {
          "base_uri": "https://localhost:8080/"
        },
        "id": "n-dBFH92PvFI",
        "outputId": "cfd3f7e2-5c2d-4483-d309-02978671558f"
      },
      "execution_count": 26,
      "outputs": [
        {
          "output_type": "stream",
          "name": "stdout",
          "text": [
            "Matriks Downsampling Max: \n",
            " [[9 6]\n",
            " [8 9]]\n"
          ]
        }
      ]
    },
    {
      "cell_type": "markdown",
      "source": [
        "##Median"
      ],
      "metadata": {
        "id": "p_mGvEOR-_Yr"
      }
    },
    {
      "cell_type": "code",
      "source": [],
      "metadata": {
        "id": "d_rmWG0x_BoT"
      },
      "execution_count": 7,
      "outputs": []
    },
    {
      "cell_type": "markdown",
      "source": [
        "##Mean"
      ],
      "metadata": {
        "id": "HBWgiRxjQJej"
      }
    },
    {
      "cell_type": "code",
      "source": [
        "print(b)\n",
        "print(b.shape)"
      ],
      "metadata": {
        "colab": {
          "base_uri": "https://localhost:8080/"
        },
        "outputId": "87531aa4-ad75-4677-b8d1-ade848cf3534",
        "id": "wYv6m6ueQJel"
      },
      "execution_count": null,
      "outputs": [
        {
          "output_type": "stream",
          "name": "stdout",
          "text": [
            "[[0 3 0 2]\n",
            " [5 0 6 5]\n",
            " [5 7 9 4]\n",
            " [5 8 9 0]]\n",
            "(4, 4)\n"
          ]
        }
      ]
    },
    {
      "cell_type": "code",
      "source": [
        "# k = 2\n",
        "\n",
        "b_avg1 = b[0:2,0:2]\n",
        "print(b_avg1)\n",
        "b_avg1 = b_avg1.flatten()\n",
        "mean_avg1 = int(sum(b_avg1)/len(b_avg1))\n",
        "print(mean_avg1)"
      ],
      "metadata": {
        "colab": {
          "base_uri": "https://localhost:8080/"
        },
        "outputId": "19af1015-e29a-4c0d-ee02-a8bd40961c81",
        "id": "-TWem4kDQJem"
      },
      "execution_count": 36,
      "outputs": [
        {
          "output_type": "stream",
          "name": "stdout",
          "text": [
            "[[0 3]\n",
            " [5 0]]\n",
            "2\n"
          ]
        }
      ]
    },
    {
      "cell_type": "code",
      "source": [
        "b_avg2 = b[0:2,2:4]\n",
        "print(b_avg2)\n",
        "b_avg2 = b_avg2.flatten()\n",
        "mean_avg2 = int(sum(b_avg2)/len(b_avg2))\n",
        "print(mean_avg2)"
      ],
      "metadata": {
        "colab": {
          "base_uri": "https://localhost:8080/"
        },
        "outputId": "7c3c0d3e-5ca6-44b6-e6e8-8842eb01a0b7",
        "id": "Xnx0ESqgQJem"
      },
      "execution_count": 37,
      "outputs": [
        {
          "output_type": "stream",
          "name": "stdout",
          "text": [
            "[[0 2]\n",
            " [6 5]]\n",
            "3\n"
          ]
        }
      ]
    },
    {
      "cell_type": "code",
      "source": [
        "b_avg3 = b[2:5,0:2]\n",
        "print(b_avg3)\n",
        "b_avg3 = b_avg3.flatten()\n",
        "mean_avg3 = int(sum(b_avg3)/len(b_avg3))\n",
        "print(mean_avg3)"
      ],
      "metadata": {
        "colab": {
          "base_uri": "https://localhost:8080/"
        },
        "outputId": "836ed9b3-8daa-4007-815e-08e90fb2b8c1",
        "id": "K9mSOLxUQJen"
      },
      "execution_count": 38,
      "outputs": [
        {
          "output_type": "stream",
          "name": "stdout",
          "text": [
            "[[5 7]\n",
            " [5 8]]\n",
            "6\n"
          ]
        }
      ]
    },
    {
      "cell_type": "code",
      "source": [
        "b_avg4 = b[2:5,2:4]\n",
        "print(b_avg4)\n",
        "b_avg4 = b_avg4.flatten()\n",
        "mean_avg4 = int(sum(b_avg4)/len(b_avg4))\n",
        "print(mean_avg4)"
      ],
      "metadata": {
        "colab": {
          "base_uri": "https://localhost:8080/"
        },
        "outputId": "3d987e9c-f236-4d7e-f042-9082f5390d38",
        "id": "J84dE98dQJeo"
      },
      "execution_count": 39,
      "outputs": [
        {
          "output_type": "stream",
          "name": "stdout",
          "text": [
            "[[9 4]\n",
            " [9 0]]\n",
            "5\n"
          ]
        }
      ]
    },
    {
      "cell_type": "code",
      "source": [
        "b_mean = np.array([[mean_avg1,mean_avg2],[mean_avg3,mean_avg4]])\n",
        "print(f\"Matriks Downsampling Mean \\n\",b_mean)"
      ],
      "metadata": {
        "colab": {
          "base_uri": "https://localhost:8080/"
        },
        "outputId": "7b37a2ae-fe18-4ba4-dde3-ac4c4f85f41a",
        "id": "UT60efFWQJeo"
      },
      "execution_count": 40,
      "outputs": [
        {
          "output_type": "stream",
          "name": "stdout",
          "text": [
            "Matriks Downsampling Mean \n",
            " [[2 3]\n",
            " [6 5]]\n"
          ]
        }
      ]
    },
    {
      "cell_type": "markdown",
      "source": [
        "##Conclusion"
      ],
      "metadata": {
        "id": "2PwVqajcWsMY"
      }
    },
    {
      "cell_type": "code",
      "source": [
        "print(f\"\"\"The result from downsampling method:\n",
        "Before downsampling: \\n{b} \\n\\nAfter downsampling:\n",
        "1. Max: \\n{b_max} \\n\\n2. Median: \\n\\n3. Mean: \\n{b_mean}\"\"\")"
      ],
      "metadata": {
        "colab": {
          "base_uri": "https://localhost:8080/"
        },
        "id": "SmhTZULzTyq4",
        "outputId": "ade5e381-e060-4294-a82f-1065b6a9518b"
      },
      "execution_count": 52,
      "outputs": [
        {
          "output_type": "stream",
          "name": "stdout",
          "text": [
            "The result from downsampling method:\n",
            "Before downsampling: \n",
            "[[0 3 0 2]\n",
            " [5 0 6 5]\n",
            " [5 7 9 4]\n",
            " [5 8 9 0]] \n",
            "\n",
            "After downsampling:\n",
            "1. Max: \n",
            "[[9 6]\n",
            " [8 9]] \n",
            "\n",
            "2. Median: \n",
            "\n",
            "3. Mean: \n",
            "[[2 3]\n",
            " [6 5]]\n"
          ]
        }
      ]
    },
    {
      "cell_type": "code",
      "source": [],
      "metadata": {
        "id": "kfrSLmD_US99"
      },
      "execution_count": null,
      "outputs": []
    }
  ]
}